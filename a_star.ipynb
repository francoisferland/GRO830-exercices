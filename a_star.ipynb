{
 "cells": [
  {
   "cell_type": "markdown",
   "metadata": {},
   "source": [
    "# GRO830 - Démonstration de l'algorithme A*\n",
    "\n",
    "Vous avez déjà lu la description de l'algorithme A* dans le livre *Introduction to Autonomous Mobile Robot*. Ce document a pour objectif de faire une démonstration de son fonctionnement autant sur un graphe qu'une carte à cellules fixes."
   ]
  },
  {
   "cell_type": "markdown",
   "metadata": {},
   "source": [
    "## Version Graphe - Préambule\n",
    "\n",
    "Tout d'abord, nous allons mettre en place quelques éléments pour définir notre graphe. Le tableau **nodes** contiendra les identifiants des noeuds (que des entiers pour l'instant) et le tableau **edges** des tuples définissant les liens entre ces noeuds. Les liens sont tous bidirectionnels."
   ]
  },
  {
   "cell_type": "code",
   "execution_count": null,
   "metadata": {},
   "outputs": [],
   "source": [
    "g_nodes = ['MTL', 'BMT', 'SHE', 'DMV', 'QUE'] # Abbréviations pour Montréal, Bromont, Sherbrooke, Drummondville et Québec\n",
    "\n",
    "g_edges = [('MTL', 'BMT'),\n",
    "           ('BMT', 'SHE'),\n",
    "           ('SHE', 'DMV'),\n",
    "           ('MTL', 'DMV'),\n",
    "           ('DMV', 'QUE')]\n",
    "\n",
    "# Les distances et positions sont approximatives :\n",
    "g_dists = [75, 75, 75, 100, 150]\n",
    "\n",
    "g_pos = {\n",
    "    'MTL': (0,0),\n",
    "    'BMT': (50, 0),\n",
    "    'SHE': (100, 0),\n",
    "    'DMV': (100, 50),\n",
    "    'QUE': (200, 100)\n",
    "}"
   ]
  },
  {
   "cell_type": "markdown",
   "metadata": {},
   "source": [
    "Nous pouvons également dessiner ce graphe à l'aide de **networkx** et **matplotlib**. Les positions indiquées ne sont pas respectées à la lettre, mais nous retrouvons tout de même la structure logique du graphe :"
   ]
  },
  {
   "cell_type": "code",
   "execution_count": null,
   "metadata": {},
   "outputs": [],
   "source": [
    "def draw_graph(nodes, edges, dists, pos):\n",
    "    import networkx as nx\n",
    "    import matplotlib.pyplot as plt\n",
    "    graph = nx.Graph()\n",
    "    graph.add_nodes_from(nodes)\n",
    "    graph.add_edges_from(edges)\n",
    "    \n",
    "    nx.draw_networkx(graph, pos, node_size=1000, node_color=\"#EEEEEE\")\n",
    "    nx.draw_networkx_edge_labels(graph, pos, dict(zip(edges, dists)))\n",
    "\n",
    "    # Nécessaire pour agrandir la zone de dessin :\n",
    "    l,r = plt.xlim()\n",
    "    t,b = plt.ylim()\n",
    "    plt.xlim(l-20, r+20)\n",
    "    plt.ylim(t-10, b+10)\n",
    "    \n",
    "    plt.axis('off')\n",
    "    plt.show()\n",
    "    \n",
    "draw_graph(g_nodes, g_edges, g_dists, g_pos)"
   ]
  },
  {
   "cell_type": "markdown",
   "metadata": {},
   "source": [
    "On peut maintenant mettre en oeuvre l'algorithme. Pour fonctionner, l'algorithme A* a besoin de quelques fonctions : le coût de déplacement entre deux noeuds, les voisins de chaque noeuds et une heuristique permettant d'estimer la distance jusqu'à la cible.\n",
    "\n",
    "Commençons par le coût entre deux noeuds. Nous avons déjà cette information dans le tableau de distance, mais nous allons l'exprimer par une fonction :"
   ]
  },
  {
   "cell_type": "code",
   "execution_count": null,
   "metadata": {},
   "outputs": [],
   "source": [
    "g_costs = dict(zip(g_edges, g_dists)) # Création d'un dictionnaire associant les liens à des distances.\n",
    "def g_cost(node_a, node_b):\n",
    "    edge   = (node_a, node_b)\n",
    "    # Il faut aussi vérifier le lien inverse vu que nous sommes bidirectionnels :\n",
    "    edge_r = (node_b, node_a)\n",
    "    \n",
    "    if (edge in g_costs):\n",
    "        return g_costs[edge]\n",
    "    elif (edge_r in g_costs):\n",
    "        return g_costs[edge_r]\n",
    "    else:\n",
    "        # ERROR!\n",
    "        return -1\n",
    "    \n",
    "    #assert edge in g_costs, \"g_cost: no edge between %s and %s\"%(str(node_a), str(node_b))\n",
    "    \n",
    "    \n",
    "    return g_costs[edge]\n",
    "        \n",
    "print(\"Le coût entre MTL et BMT est %d.\"%(g_cost('MTL', 'BMT')))"
   ]
  },
  {
   "cell_type": "markdown",
   "metadata": {},
   "source": [
    "Nous avons également besoin d'une fonction qui retourne la liste des voisins pour un noeud. Nous avons déjà la liste des liens, mais nous devons effectuer une recherche :"
   ]
  },
  {
   "cell_type": "code",
   "execution_count": null,
   "metadata": {},
   "outputs": [],
   "source": [
    "def g_neighbors(node):\n",
    "    assert node in g_nodes, \"g_neighbors: node unknown\"\n",
    "    \n",
    "    neighbors = []\n",
    "    for (a,b) in g_edges:\n",
    "        if (a == node):\n",
    "            neighbors.append(b)\n",
    "        elif (b == node):\n",
    "            neighbors.append(a)\n",
    "    return neighbors\n",
    "            \n",
    "print(\"Les voisins de SHE sont : %s.\"%(str(g_neighbors(\"SHE\"))))"
   ]
  },
  {
   "cell_type": "markdown",
   "metadata": {},
   "source": [
    "Finalement, nous avons besoin de la fonction heuristique $H$. Nous pourrions utiliser une matrice enregistrant ces distances à voi d'oiseau, mais nous allons utiliser les positions approximatives :"
   ]
  },
  {
   "cell_type": "code",
   "execution_count": null,
   "metadata": {},
   "outputs": [],
   "source": [
    "def g_h(node_a, node_b):\n",
    "    from math import sqrt\n",
    "    assert node_a in g_pos, \"g_h: %s not in g_pos\"%(node_a)\n",
    "    assert node_b in g_pos, \"g_h: %s not in g_pos\"%(node_b) \n",
    "    \n",
    "    pos_a = g_pos[node_a]\n",
    "    pos_b = g_pos[node_b]\n",
    "    \n",
    "    return sqrt((pos_a[0]-pos_b[0])**2 + (pos_a[1] - pos_b[1])**2)\n",
    "\n",
    "print(\"H('MTL', 'QUE') = %d\"%(g_h('MTL', 'QUE')))"
   ]
  },
  {
   "cell_type": "markdown",
   "metadata": {},
   "source": [
    "Nous avons donc tous les éléments nécessaires pour mettre en place la fonction de l'algorithme. Celle-ci s'occupera de générer le contenu des fonctions $F$ et $G$ et retournera le chemin le plus court (s'il existe) :"
   ]
  },
  {
   "cell_type": "code",
   "execution_count": null,
   "metadata": {},
   "outputs": [],
   "source": [
    "def astar(start, goal, c_fun, n_fun, h_fun):\n",
    "    # Cherche le chemin le plus court entre start et goal à l'aide de l'algorithme A*.\n",
    "    # Utilise les fonctions :\n",
    "    #   c_fun(edge): retourne le coût de parcours du lien edge\n",
    "    #   n_fun(node): retourne les voisins du noeud node\n",
    "    #   h_fun(node_a, node_b): retourne la valeur de l'heuristique du coût de parcours entre node_a et node_b\n",
    "    \n",
    "    from math import inf # Valeur infinie\n",
    "    \n",
    "    search_set = [start] # Espace de recherche, ne contient que le noeud de départ pour l'instant.\n",
    "    \n",
    "    # Dictionnaire contenant le plus bas coût réel du chemin (G) jusqu'au noeud spécifié.\n",
    "    g = {}\n",
    "    # On initialise avec g = 0 pour le départ\n",
    "    g[start] = 0\n",
    "    \n",
    "    # Dictionnaire contenant la plus basse valeur de la fonction f(node) pour chaque noeud.\n",
    "    f = {} \n",
    "    # On initialise f(start) avec g (qui est 0) et l'heuristique jusqu'à la fin.\n",
    "    f[start] = g[start] + h_fun(start, goal)\n",
    "   \n",
    "    # Dictionnaire qui conserve pour chaque noeud la provenance permettant la valeur f la plus faible.\n",
    "    # Utilisé pour reconstruire le chemin lorsque l'objectif est atteint.\n",
    "    from_node = {}\n",
    "    # On initialise avec le noeud de départ sans provenance (None).\n",
    "    from_node[start] = None\n",
    "    \n",
    "    while (len(search_set) > 0):\n",
    "        # On trouve le noeud ayant la plus petite valeur f dans l'ensemble de recherche :\n",
    "        min_f = inf\n",
    "        min_n = None\n",
    "        for n in search_set:\n",
    "            assert n in f, \"Error : %s not in F!\"%(str(n))\n",
    "            if f[n] < min_f:\n",
    "                min_f = f[n]\n",
    "                min_n = n\n",
    "        \n",
    "        # On retire le noeud ayant le plus petit 'f' et on poursuit avec lui :\n",
    "        current = min_n\n",
    "        search_set.remove(min_n)\n",
    "        \n",
    "        # Si le noeud en cours est l'objectif, c'est qu'aucun autre noeud dans l'espace de recherche n'a\n",
    "        # un meilleur potentiel du chemin le plus court. On reconstruit le chemin ensuite. \n",
    "        if (current == goal):\n",
    "            path_r = [goal]\n",
    "            previous = from_node[goal]\n",
    "            while (previous is not None):\n",
    "                path_r.append(previous)\n",
    "                previous = from_node[previous]             \n",
    "            path_r.reverse() # On remet la liste dans le bon ordre\n",
    "            return path_r\n",
    "        \n",
    "        ns = n_fun(current) # Les voisins du noeud en cours\n",
    "        for n in ns:\n",
    "            # Pour chaque voisin, on calcule sa fonction f et on l'ajoute à l'ensemble de recherche seulement si\n",
    "            # la valeur de g est plus basse que celle déjà connue pour ce noeud\n",
    "            g_n = g[current] + c_fun(current, n)\n",
    "            f_n = g[current] + g_n + h_fun(n, goal)\n",
    "            if ((g_n not in g) or (g_n < g[n])):\n",
    "                from_node[n] = current\n",
    "                g[n] = g_n\n",
    "                f[n] = f_n\n",
    "                if (n not in search_set):\n",
    "                    search_set.append(n)\n",
    "   \n",
    "    # Nous avons vidé l'espace de recherche sans trouver de solution. Retourner une liste vide.\n",
    "    return []\n",
    "\n",
    "res = astar('MTL', 'SHE', g_cost, g_neighbors, g_h)"
   ]
  },
  {
   "cell_type": "code",
   "execution_count": null,
   "metadata": {},
   "outputs": [],
   "source": []
  }
 ],
 "metadata": {
  "kernelspec": {
   "display_name": "Python 3",
   "language": "python",
   "name": "python3"
  }
 },
 "nbformat": 4,
 "nbformat_minor": 2
}
